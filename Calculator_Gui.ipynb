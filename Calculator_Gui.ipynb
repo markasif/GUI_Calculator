{
 "cells": [
  {
   "cell_type": "code",
   "execution_count": 1,
   "metadata": {},
   "outputs": [
    {
     "name": "stdout",
     "output_type": "stream",
     "text": [
      "Requirement already satisfied: tk in c:\\users\\apasi\\desktop\\new beginning\\code\\asif\\lib\\site-packages (0.1.0)\n"
     ]
    }
   ],
   "source": [
    "!pip install tk"
   ]
  },
  {
   "cell_type": "code",
   "execution_count": 15,
   "metadata": {},
   "outputs": [],
   "source": [
    "import tkinter as tk\n",
    "\n",
    "def click(event):\n",
    "    current = display.get()\n",
    "    text = event.widget.cget('text')\n",
    "\n",
    "    if text == \"=\":\n",
    "        try:\n",
    "            result = eval(current)\n",
    "            display.delete(0, tk.END)\n",
    "            display.insert(tk.END, result)\n",
    "        except ZeroDivisionError:\n",
    "            display.delete(0, tk.END)\n",
    "            display.insert(tk.END, \"Error\")\n",
    "    elif text == \"C\":\n",
    "        display.delete(0, tk.END)\n",
    "    else:\n",
    "        display.insert(tk.END, text)\n",
    "\n",
    "\n",
    "window = tk.Tk()\n",
    "window.title(\"Calculator\")\n",
    "\n",
    "display = tk.Entry(window, font=(\"Arial\",25), justify=\"right\")\n",
    "display.pack(fill=tk.X, padx=10,    pady=10, ipady=10)\n",
    "\n",
    "btn_frame= tk.Frame(window)\n",
    "btn_frame.pack()\n",
    "\n",
    "btn_labels= [\n",
    "    \"7\", \"8\", \"9\", \"+\",\n",
    "    \"4\", \"5\", \"6\", \"-\",\n",
    "    \"1\", \"2\", \"3\", \"*\",\n",
    "    \"C\", \"0\", \"=\", \"/\",\n",
    "]\n",
    "i=0\n",
    "\n",
    "for labels in btn_labels:\n",
    "    buttons = tk.Button(btn_frame, text=labels, font=(\"Arial,18\"), padx=20, pady=20)\n",
    "    buttons.grid(row=i//4, column=i%4, padx=20, pady=20)\n",
    "    buttons.bind(\"<Button-1>\",click)\n",
    "    i += 1\n",
    "window.mainloop()"
   ]
  },
  {
   "cell_type": "code",
   "execution_count": null,
   "metadata": {},
   "outputs": [],
   "source": []
  },
  {
   "cell_type": "code",
   "execution_count": null,
   "metadata": {},
   "outputs": [],
   "source": []
  }
 ],
 "metadata": {
  "kernelspec": {
   "display_name": "Python 3",
   "language": "python",
   "name": "python3"
  },
  "language_info": {
   "codemirror_mode": {
    "name": "ipython",
    "version": 3
   },
   "file_extension": ".py",
   "mimetype": "text/x-python",
   "name": "python",
   "nbconvert_exporter": "python",
   "pygments_lexer": "ipython3",
   "version": "3.12.5"
  }
 },
 "nbformat": 4,
 "nbformat_minor": 2
}
